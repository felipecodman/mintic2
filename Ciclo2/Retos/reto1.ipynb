{
 "cells": [
  {
   "cell_type": "code",
   "execution_count": 1,
   "metadata": {},
   "outputs": [],
   "source": [
    "public class BecaUniversitaria {\n",
    "  private int tiempo;\n",
    "  private double monto;\n",
    "  private double interes;\n",
    "\n",
    "  public BecaUniversitaria(){\n",
    "    tiempo=0;\n",
    "    monto=0;\n",
    "    interes=0;\n",
    "  }\n",
    "\n",
    "  public BecaUniversitaria( int pTiempo, double pMonto, double pInteres){\n",
    "    this.tiempo=pTiempo;\n",
    "    this.monto=pMonto;\n",
    "    this.interes=pInteres;\n",
    "  }\n",
    "\n",
    "  public double calcularInteresSimple(){\n",
    "    double inter=monto*(interes/100)*tiempo;\n",
    "    return Math.round(inter);\n",
    "  \n",
    "  }\n",
    "\n",
    "  public double calcularInteresCompuesto(){\n",
    "    double inter2=monto*(Math.pow((1+interes/100),tiempo)-1);\n",
    "    return Math.round(inter2);\n",
    "  }\n",
    "\n",
    "  public String compararInversion(int pTiempo, double pMonto, double pInteres){\n",
    "    this.tiempo=pTiempo;\n",
    "    this.monto=pMonto;\n",
    "    this.interes=pInteres;\n",
    "    double diferencia = calcularInteresCompuesto() - calcularInteresSimple();\n",
    "    if(diferencia != 0){\n",
    "      return \"La diferencia entre la proyección de interés compuesto e interés simple es: $\" + diferencia;\n",
    "    }\n",
    "    else{\n",
    "      return \"No se obtuvo diferencia entre las proyecciones, revisar los parámetros de entrada.\";\n",
    "    }\n",
    "  }\n",
    "\n",
    "  public String compararInversion(){\n",
    "    double diferencia = calcularInteresCompuesto() - calcularInteresSimple();\n",
    "    if(diferencia != 0){\n",
    "      return \"La diferencia entre la proyección de interés compuesto e interés simple es: $\" + diferencia;\n",
    "    }\n",
    "    else{\n",
    "      return \"No se obtuvo diferencia entre las proyecciones, revisar los parámetros de entrada.\";\n",
    "    }\n",
    "\n",
    "  }\n",
    "\n",
    "}"
   ]
  }
 ],
 "metadata": {
  "kernelspec": {
   "display_name": "Java",
   "language": "java",
   "name": "java"
  },
  "language_info": {
   "codemirror_mode": "java",
   "file_extension": ".jshell",
   "mimetype": "text/x-java-source",
   "name": "java",
   "pygments_lexer": "java",
   "version": "11.0.15+10"
  },
  "orig_nbformat": 4,
  "vscode": {
   "interpreter": {
    "hash": "81794d4967e6c3204c66dcd87b604927b115b27c00565d3d43f05ba2f3a2cb0d"
   }
  }
 },
 "nbformat": 4,
 "nbformat_minor": 2
}
